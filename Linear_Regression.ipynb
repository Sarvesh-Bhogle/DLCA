{
  "nbformat": 4,
  "nbformat_minor": 0,
  "metadata": {
    "colab": {
      "provenance": []
    },
    "kernelspec": {
      "name": "python3",
      "display_name": "Python 3"
    },
    "language_info": {
      "name": "python"
    }
  },
  "cells": [
    {
      "cell_type": "code",
      "execution_count": 4,
      "metadata": {
        "colab": {
          "base_uri": "https://localhost:8080/"
        },
        "id": "1Q8MZ6Yn5zqu",
        "outputId": "bac7d2bc-9943-42f9-cb9c-1f3992893f7c"
      },
      "outputs": [
        {
          "output_type": "stream",
          "name": "stdout",
          "text": [
            "Mean Squared Error: 21.52\n",
            "R^2 Score: 0.71\n",
            "         Coefficient\n",
            "CRIM       -0.133470\n",
            "ZN          0.035809\n",
            "INDUS       0.049523\n",
            "CHAS        3.119835\n",
            "NOX       -15.417061\n",
            "RM          4.057199\n",
            "AGE        -0.010821\n",
            "DIS        -1.385998\n",
            "RAD         0.242727\n",
            "TAX        -0.008702\n",
            "PTRATIO    -0.910685\n",
            "B           0.011794\n",
            "LSTAT      -0.547113\n"
          ]
        }
      ],
      "source": [
        "import pandas as pd\n",
        "from sklearn.datasets import fetch_openml\n",
        "from sklearn.model_selection import train_test_split\n",
        "from sklearn.linear_model import LinearRegression\n",
        "from sklearn.metrics import mean_squared_error, r2_score\n",
        "\n",
        "# Load the Boston housing dataset from OpenML\n",
        "boston = fetch_openml(name='boston', version=1)\n",
        "X = pd.DataFrame(boston.data, columns=boston.feature_names)\n",
        "y = pd.Series(boston.target)\n",
        "\n",
        "# Check for non-numeric columns and convert them if necessary\n",
        "X = X.apply(pd.to_numeric, errors='coerce')\n",
        "\n",
        "# Drop rows with NaN values (if any)\n",
        "X.dropna(inplace=True)\n",
        "y = y[X.index]  # Align target variable with features after dropping rows\n",
        "\n",
        "# Split the dataset into training and testing sets\n",
        "X_train, X_test, y_train, y_test = train_test_split(X, y, test_size=0.3, random_state=42)\n",
        "\n",
        "# Create and train the linear regression model\n",
        "model = LinearRegression()\n",
        "model.fit(X_train, y_train)\n",
        "\n",
        "# Make predictions on the test data\n",
        "y_pred = model.predict(X_test)\n",
        "\n",
        "# Evaluate the model\n",
        "mse = mean_squared_error(y_test, y_pred)\n",
        "r2 = r2_score(y_test, y_pred)\n",
        "\n",
        "print(f'Mean Squared Error: {mse:.2f}')\n",
        "print(f'R^2 Score: {r2:.2f}')\n",
        "\n",
        "# Display the coefficients\n",
        "coefficients = pd.DataFrame(model.coef_, X.columns, columns=['Coefficient'])\n",
        "print(coefficients)\n",
        "\n"
      ]
    },
    {
      "cell_type": "code",
      "source": [
        "import numpy as np\n",
        "import matplotlib.pyplot as plt\n",
        "\n",
        "def sigmoid(z):\n",
        "   return 1/(1+ np.exp(-z))\n",
        "\n",
        "#Creating sample Z points\n",
        "z= np.arange(-5, 5, 0.1)\n",
        "\n",
        "#Invoking Sigmoid function on all Z points\n",
        "phi_z=sigmoid(z)\n",
        "\n",
        "#Plotting the Sigmoid function\n",
        "\n",
        "plt.plot(z, phi_z)\n",
        "\n",
        "plt.axvline(0.0, color='k')\n",
        "\n",
        "plt.xlabel('z')\n",
        "\n",
        "plt.ylabel('S\\phi(z)$')\n",
        "\n",
        "plt.yticks([0.0, 0.5, 1.0])\n",
        "\n",
        "ax = plt.gca()\n",
        "ax.yaxis.grid(True)\n",
        "\n",
        "plt.tight_layout()\n",
        "\n",
        "plt.show()"
      ],
      "metadata": {
        "colab": {
          "base_uri": "https://localhost:8080/",
          "height": 487
        },
        "id": "uAaB25kf6uUU",
        "outputId": "df2c4821-de5e-4ecf-c66d-0f1af72ef237"
      },
      "execution_count": 5,
      "outputs": [
        {
          "output_type": "display_data",
          "data": {
            "text/plain": [
              "<Figure size 640x480 with 1 Axes>"
            ],
            "image/png": "[encoded data removed]"
          },
          "metadata": {}
        }
      ]
    }
  ]
}